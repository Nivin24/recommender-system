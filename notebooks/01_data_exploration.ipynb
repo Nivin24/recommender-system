{
 "cells": [
  {
   "cell_type": "markdown",
   "metadata": {},
   "source": [
    "# Data Exploration\n",
    "\n",
    "## Introduction & Purpose\n",
    "\n",
    "This notebook provides an initial exploration of the processed movie recommendation data. The purpose is to:\n",
    "- Load and inspect the processed datasets\n",
    "- Understand the basic structure and characteristics of the data\n",
    "- Identify data quality issues\n",
    "- Analyze distributions of key features\n",
    "- Summarize user demographics"
   ]
  },
  {
   "cell_type": "code",
   "execution_count": null,
   "metadata": {},
   "outputs": [],
   "source": [
    "# Import required libraries\n",
    "import pandas as pd\n",
    "import numpy as np\n",
    "import matplotlib.pyplot as plt\n",
    "import seaborn as sns\n",
    "\n",
    "# Set visualization style\n",
    "sns.set_style('whitegrid')\n",
    "plt.rcParams['figure.figsize'] = (12, 6)"
   ]
  },
  {
   "cell_type": "markdown",
   "metadata": {},
   "source": [
    "## Load Processed Data from data/processed/\n",
    "\n",
    "Load the cleaned and processed datasets for analysis."
   ]
  },
  {
   "cell_type": "code",
   "execution_count": null,
   "metadata": {},
   "outputs": [],
   "source": [
    "# Load processed data files\n",
    "# TODO: Update file paths based on actual processed data files\n",
    "\n",
    "# Example:\n",
    "# ratings_df = pd.read_csv('../data/processed/ratings_processed.csv')\n",
    "# movies_df = pd.read_csv('../data/processed/movies_processed.csv')\n",
    "# users_df = pd.read_csv('../data/processed/users_processed.csv')\n",
    "\n",
    "print('Data loaded successfully')"
   ]
  },
  {
   "cell_type": "markdown",
   "metadata": {},
   "source": [
    "## Basic Statistics\n",
    "\n",
    "Examine dataset shapes, preview samples, and check for missing values."
   ]
  },
  {
   "cell_type": "code",
   "execution_count": null,
   "metadata": {},
   "outputs": [],
   "source": [
    "# Dataset shape\n",
    "# print('Ratings shape:', ratings_df.shape)\n",
    "# print('Movies shape:', movies_df.shape)\n",
    "# print('Users shape:', users_df.shape)"
   ]
  },
  {
   "cell_type": "code",
   "execution_count": null,
   "metadata": {},
   "outputs": [],
   "source": [
    "# Display first few rows\n",
    "# ratings_df.head()"
   ]
  },
  {
   "cell_type": "code",
   "execution_count": null,
   "metadata": {},
   "outputs": [],
   "source": [
    "# Check for missing values\n",
    "# print('\\nMissing values in ratings:')\n",
    "# print(ratings_df.isnull().sum())\n",
    "# \n",
    "# print('\\nMissing values in movies:')\n",
    "# print(movies_df.isnull().sum())\n",
    "# \n",
    "# print('\\nMissing values in users:')\n",
    "# print(users_df.isnull().sum())"
   ]
  },
  {
   "cell_type": "markdown",
   "metadata": {},
   "source": [
    "## Distribution Visualizations\n",
    "\n",
    "Visualize the distributions of key features including age, ratings, and genres."
   ]
  },
  {
   "cell_type": "markdown",
   "metadata": {},
   "source": [
    "### Age Distribution"
   ]
  },
  {
   "cell_type": "code",
   "execution_count": null,
   "metadata": {},
   "outputs": [],
   "source": [
    "# Plot age distribution\n",
    "# plt.figure(figsize=(10, 6))\n",
    "# plt.hist(users_df['age'], bins=30, edgecolor='black', alpha=0.7)\n",
    "# plt.xlabel('Age')\n",
    "# plt.ylabel('Frequency')\n",
    "# plt.title('Distribution of User Ages')\n",
    "# plt.show()"
   ]
  },
  {
   "cell_type": "markdown",
   "metadata": {},
   "source": [
    "### Rating Distribution"
   ]
  },
  {
   "cell_type": "code",
   "execution_count": null,
   "metadata": {},
   "outputs": [],
   "source": [
    "# Plot rating distribution\n",
    "# plt.figure(figsize=(10, 6))\n",
    "# plt.hist(ratings_df['rating'], bins=20, edgecolor='black', alpha=0.7)\n",
    "# plt.xlabel('Rating')\n",
    "# plt.ylabel('Frequency')\n",
    "# plt.title('Distribution of Movie Ratings')\n",
    "# plt.show()"
   ]
  },
  {
   "cell_type": "markdown",
   "metadata": {},
   "source": [
    "### Genre Distribution"
   ]
  },
  {
   "cell_type": "code",
   "execution_count": null,
   "metadata": {},
   "outputs": [],
   "source": [
    "# Plot genre distribution\n",
    "# # Note: Adjust based on actual genre column format\n",
    "# plt.figure(figsize=(12, 6))\n",
    "# # genre_counts = movies_df['genre'].value_counts().head(10)\n",
    "# # genre_counts.plot(kind='bar')\n",
    "# plt.xlabel('Genre')\n",
    "# plt.ylabel('Count')\n",
    "# plt.title('Top 10 Movie Genres')\n",
    "# plt.xticks(rotation=45)\n",
    "# plt.tight_layout()\n",
    "# plt.show()"
   ]
  },
  {
   "cell_type": "markdown",
   "metadata": {},
   "source": [
    "## User Demographics Summary\n",
    "\n",
    "Analyze and summarize user demographic information."
   ]
  },
  {
   "cell_type": "code",
   "execution_count": null,
   "metadata": {},
   "outputs": [],
   "source": [
    "# User demographics summary\n",
    "# print('User Demographics Summary:')\n",
    "# print('=' * 50)\n",
    "# print(f'Total users: {len(users_df)}')\n",
    "# print(f'\\nAge statistics:')\n",
    "# print(users_df['age'].describe())\n",
    "# \n",
    "# # Additional demographic analysis\n",
    "# # print(f'\\nGender distribution:')\n",
    "# # print(users_df['gender'].value_counts())\n",
    "# # \n",
    "# # print(f'\\nOccupation distribution:')\n",
    "# # print(users_df['occupation'].value_counts())"
   ]
  },
  {
   "cell_type": "code",
   "execution_count": null,
   "metadata": {},
   "outputs": [],
   "source": [
    "# Visualize user demographics\n",
    "# fig, axes = plt.subplots(1, 2, figsize=(15, 5))\n",
    "# \n",
    "# # Example visualizations\n",
    "# # axes[0].pie(users_df['gender'].value_counts(), labels=users_df['gender'].value_counts().index, autopct='%1.1f%%')\n",
    "# # axes[0].set_title('Gender Distribution')\n",
    "# # \n",
    "# # users_df['occupation'].value_counts().head(10).plot(kind='barh', ax=axes[1])\n",
    "# # axes[1].set_title('Top 10 Occupations')\n",
    "# # axes[1].set_xlabel('Count')\n",
    "# \n",
    "# plt.tight_layout()\n",
    "# plt.show()"
   ]
  },
  {
   "cell_type": "markdown",
   "metadata": {},
   "source": [
    "## Next Steps\n",
    "\n",
    "- Perform deeper feature engineering\n",
    "- Analyze correlations between features\n",
    "- Prepare data for model training\n",
    "- Develop recommendation algorithms"
   ]
  }
 ],
 "metadata": {
  "kernelspec": {
   "display_name": "Python 3",
   "language": "python",
   "name": "python3"
  },
  "language_info": {
   "codemirror_mode": {
    "name": "ipython",
    "version": 3
   },
   "file_extension": ".py",
   "mimetype": "text/x-python",
   "name": "python",
   "nbconvert_exporter": "python",
   "pygments_lexer": "ipython3",
   "version": "3.8.0"
  }
 },
 "nbformat": 4,
 "nbformat_minor": 4
}
